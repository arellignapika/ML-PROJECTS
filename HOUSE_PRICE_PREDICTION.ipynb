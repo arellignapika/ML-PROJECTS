{
 "cells": [
  {
   "cell_type": "code",
   "execution_count": 12,
   "id": "eca7ff5c",
   "metadata": {},
   "outputs": [],
   "source": [
    "import pandas as pd\n",
    "import numpy as np\n",
    "import matplotlib.pyplot as plt\n",
    "import sklearn\n",
    "from sklearn.datasets import fetch_california_housing\n",
    "housing = fetch_california_housing()"
   ]
  },
  {
   "cell_type": "code",
   "execution_count": 2,
   "id": "6019567a",
   "metadata": {},
   "outputs": [],
   "source": [
    "house = pd.DataFrame(housing.data , columns=housing.feature_names)\n",
    "target = pd.Series(housing.target, name='MedHouseVal')\n"
   ]
  },
  {
   "cell_type": "code",
   "execution_count": 3,
   "id": "0a2a129e",
   "metadata": {},
   "outputs": [],
   "source": [
    "house['price']=target"
   ]
  },
  {
   "cell_type": "code",
   "execution_count": 4,
   "id": "c9c18490",
   "metadata": {},
   "outputs": [
    {
     "name": "stdout",
     "output_type": "stream",
     "text": [
      "   MedInc  HouseAge  AveRooms  AveBedrms  Population  AveOccup  Latitude  \\\n",
      "0  8.3252      41.0  6.984127   1.023810       322.0  2.555556     37.88   \n",
      "1  8.3014      21.0  6.238137   0.971880      2401.0  2.109842     37.86   \n",
      "2  7.2574      52.0  8.288136   1.073446       496.0  2.802260     37.85   \n",
      "3  5.6431      52.0  5.817352   1.073059       558.0  2.547945     37.85   \n",
      "4  3.8462      52.0  6.281853   1.081081       565.0  2.181467     37.85   \n",
      "5  4.0368      52.0  4.761658   1.103627       413.0  2.139896     37.85   \n",
      "6  3.6591      52.0  4.931907   0.951362      1094.0  2.128405     37.84   \n",
      "7  3.1200      52.0  4.797527   1.061824      1157.0  1.788253     37.84   \n",
      "8  2.0804      42.0  4.294118   1.117647      1206.0  2.026891     37.84   \n",
      "9  3.6912      52.0  4.970588   0.990196      1551.0  2.172269     37.84   \n",
      "\n",
      "   Longitude  price  \n",
      "0    -122.23  4.526  \n",
      "1    -122.22  3.585  \n",
      "2    -122.24  3.521  \n",
      "3    -122.25  3.413  \n",
      "4    -122.25  3.422  \n",
      "5    -122.25  2.697  \n",
      "6    -122.25  2.992  \n",
      "7    -122.25  2.414  \n",
      "8    -122.26  2.267  \n",
      "9    -122.25  2.611  \n"
     ]
    }
   ],
   "source": [
    "print(house.head(10))"
   ]
  },
  {
   "cell_type": "code",
   "execution_count": 5,
   "id": "efb50868",
   "metadata": {},
   "outputs": [
    {
     "data": {
      "text/plain": [
       "['MedInc',\n",
       " 'HouseAge',\n",
       " 'AveRooms',\n",
       " 'AveBedrms',\n",
       " 'Population',\n",
       " 'AveOccup',\n",
       " 'Latitude',\n",
       " 'Longitude']"
      ]
     },
     "execution_count": 5,
     "metadata": {},
     "output_type": "execute_result"
    }
   ],
   "source": [
    "housing.feature_names"
   ]
  },
  {
   "cell_type": "code",
   "execution_count": 6,
   "id": "2176f1a3",
   "metadata": {},
   "outputs": [],
   "source": [
    "y=house['price']"
   ]
  },
  {
   "cell_type": "code",
   "execution_count": 7,
   "id": "1b341d96",
   "metadata": {},
   "outputs": [],
   "source": [
    "x=house.drop('price',axis=1)\n",
    "##axis 0 represents row level operation and 1 represents the column level operations in python"
   ]
  },
  {
   "cell_type": "code",
   "execution_count": 8,
   "id": "fcdc6234",
   "metadata": {},
   "outputs": [
    {
     "name": "stdout",
     "output_type": "stream",
     "text": [
      "   MedInc  HouseAge  AveRooms  AveBedrms  Population  AveOccup  Latitude  \\\n",
      "0  8.3252      41.0  6.984127   1.023810       322.0  2.555556     37.88   \n",
      "1  8.3014      21.0  6.238137   0.971880      2401.0  2.109842     37.86   \n",
      "2  7.2574      52.0  8.288136   1.073446       496.0  2.802260     37.85   \n",
      "3  5.6431      52.0  5.817352   1.073059       558.0  2.547945     37.85   \n",
      "4  3.8462      52.0  6.281853   1.081081       565.0  2.181467     37.85   \n",
      "\n",
      "   Longitude  \n",
      "0    -122.23  \n",
      "1    -122.22  \n",
      "2    -122.24  \n",
      "3    -122.25  \n",
      "4    -122.25  \n"
     ]
    }
   ],
   "source": [
    "print(x.head())"
   ]
  },
  {
   "cell_type": "code",
   "execution_count": 9,
   "id": "e83632e5",
   "metadata": {},
   "outputs": [
    {
     "name": "stdout",
     "output_type": "stream",
     "text": [
      "0        4.526\n",
      "1        3.585\n",
      "2        3.521\n",
      "3        3.413\n",
      "4        3.422\n",
      "         ...  \n",
      "20635    0.781\n",
      "20636    0.771\n",
      "20637    0.923\n",
      "20638    0.847\n",
      "20639    0.894\n",
      "Name: price, Length: 20640, dtype: float64\n"
     ]
    }
   ],
   "source": [
    "print(y)"
   ]
  },
  {
   "cell_type": "code",
   "execution_count": 10,
   "id": "d0aa241e",
   "metadata": {},
   "outputs": [],
   "source": [
    "from sklearn.linear_model import LinearRegression"
   ]
  },
  {
   "cell_type": "code",
   "execution_count": 13,
   "id": "06a616ab",
   "metadata": {},
   "outputs": [],
   "source": [
    "x_train , x_test , y_train , y_test = sklearn.model_selection.train_test_split(x,y,test_size=0.33 , random_state=5)"
   ]
  },
  {
   "cell_type": "code",
   "execution_count": 14,
   "id": "d00c7716",
   "metadata": {},
   "outputs": [
    {
     "name": "stdout",
     "output_type": "stream",
     "text": [
      "(13828, 8)\n",
      "(6812, 8)\n",
      "(13828,)\n",
      "(6812,)\n"
     ]
    }
   ],
   "source": [
    "print(x_train.shape)\n",
    "print(x_test.shape)\n",
    "print(y_train.shape)\n",
    "print(y_test.shape)"
   ]
  },
  {
   "cell_type": "code",
   "execution_count": 15,
   "id": "f15938a7",
   "metadata": {},
   "outputs": [],
   "source": [
    "lm=LinearRegression()"
   ]
  },
  {
   "cell_type": "code",
   "execution_count": 16,
   "id": "046adc5a",
   "metadata": {},
   "outputs": [],
   "source": [
    "a=lm.fit(x_train , y_train)"
   ]
  },
  {
   "cell_type": "code",
   "execution_count": 17,
   "id": "226d4668",
   "metadata": {},
   "outputs": [],
   "source": [
    "y_test_pred = lm.predict(x_test)\n",
    "y_train_pred = lm.predict(x_train)"
   ]
  },
  {
   "cell_type": "code",
   "execution_count": 20,
   "id": "c6e910ab",
   "metadata": {},
   "outputs": [
    {
     "name": "stdout",
     "output_type": "stream",
     "text": [
      "              0\n",
      "price          \n",
      "1.034  1.339119\n",
      "2.183  1.950829\n",
      "1.684  2.189399\n",
      "3.594  3.169260\n",
      "0.748  1.110669\n",
      "...         ...\n",
      "3.508  3.434364\n",
      "0.658  1.378129\n",
      "2.644  2.703433\n",
      "2.624  2.320330\n",
      "0.952  1.964707\n",
      "\n",
      "[13828 rows x 1 columns]\n"
     ]
    }
   ],
   "source": [
    "print(pd.DataFrame( y_train_pred,y_train))"
   ]
  },
  {
   "cell_type": "code",
   "execution_count": 21,
   "id": "0265c161",
   "metadata": {},
   "outputs": [
    {
     "name": "stdout",
     "output_type": "stream",
     "text": [
      "              0\n",
      "price          \n",
      "0.936  1.694117\n",
      "1.536  1.941559\n",
      "1.325  0.968498\n",
      "1.479  1.729724\n",
      "1.207  1.749492\n",
      "...         ...\n",
      "0.559 -0.026065\n",
      "1.958  2.247358\n",
      "2.142  2.147028\n",
      "0.878  0.735217\n",
      "0.747  1.161932\n",
      "\n",
      "[6812 rows x 1 columns]\n"
     ]
    }
   ],
   "source": [
    "df=pd.DataFrame(y_test_pred,y_test)\n",
    "print(df)"
   ]
  },
  {
   "cell_type": "code",
   "execution_count": 24,
   "id": "60976e4c",
   "metadata": {},
   "outputs": [
    {
     "name": "stdout",
     "output_type": "stream",
     "text": [
      "0.5326311462917639\n"
     ]
    }
   ],
   "source": [
    "from sklearn.metrics import mean_squared_error\n",
    "mse = mean_squared_error(y_test,y_test_pred)\n",
    "print(mse)"
   ]
  },
  {
   "cell_type": "code",
   "execution_count": 28,
   "id": "4d620baf",
   "metadata": {},
   "outputs": [
    {
     "data": {
      "image/png": "[encoded data removed]",
      "text/plain": [
       "<Figure size 640x480 with 1 Axes>"
      ]
     },
     "metadata": {},
     "output_type": "display_data"
    }
   ],
   "source": [
    "fir, ax = plt.subplots()\n",
    "ax.scatter(y_test , y_test_pred , s=5)\n",
    "ax.plot([y_test.min(), y_test.max()], [y_test.min(), y_test.max()], 'k--', lw=3)\n",
    "ax.set_xlabel(\"measured\")\n",
    "ax.set_ylabel(\"predicted\")\n",
    "plt.show()                                      "
   ]
  },
  {
   "cell_type": "code",
   "execution_count": null,
   "id": "da9ee8cb",
   "metadata": {},
   "outputs": [],
   "source": []
  }
 ],
 "metadata": {
  "kernelspec": {
   "display_name": "Python 3 (ipykernel)",
   "language": "python",
   "name": "python3"
  },
  "language_info": {
   "codemirror_mode": {
    "name": "ipython",
    "version": 3
   },
   "file_extension": ".py",
   "mimetype": "text/x-python",
   "name": "python",
   "nbconvert_exporter": "python",
   "pygments_lexer": "ipython3",
   "version": "3.10.11"
  }
 },
 "nbformat": 4,
 "nbformat_minor": 5
}
